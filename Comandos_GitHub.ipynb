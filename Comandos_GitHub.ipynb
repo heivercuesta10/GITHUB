{
  "cells": [
    {
      "cell_type": "code",
      "execution_count": null,
      "metadata": {
        "id": "kTh89qbt_818"
      },
      "outputs": [],
      "source": []
    },
    {
      "cell_type": "markdown",
      "metadata": {
        "id": "YyDS4r9I_-m4"
      },
      "source": [
        "\n",
        "\n",
        "# **COMANDOS UTILIZADOS EN SOFTWARE PARA CONTROL DE VERSIONES**"
      ]
    },
    {
      "cell_type": "markdown",
      "metadata": {
        "id": "4bZEyMLzAHHU"
      },
      "source": [
        "# Comandos utilizados para subir información del PC a repositorio GitHub\n",
        "\n",
        "\n",
        "**Comandos Básicos para crear repositorio en el PC**\n",
        "\n",
        "git init\n",
        "\n",
        "git status\n",
        "\n",
        "git add .\n",
        "\n",
        "git add frontend/ \n  Comando cuando no actualiza carpetas en este caso la carpeta es frontend",
        "\n",
        "\n",
        "**Comandos cuando se eliminan Carpetas o Archivos**\n",
        "\n",
        "\n",
        "git pull upstream master
        "\n",
        "git branch -vv
        "\n",
        "git commit -m \"E BORRARON 2 ARCHIVOS Adicionamos 02_Instalacion de NodeJS 2023 Collab\"\n",
        "\n",
        "**//CARGA INFORMACION DE PC a GITHUB**\n",
        "\n",
        "git remote add origin https://github.com/heivercuesta10/NODEJS.git\n",
        "\n",
        "\n",
        "git pull origin main\n",
        "\n",
        "git push -u origin main\n",
        "\n",
        "git pull --rebase origin main\n",
        "\n",
        "git push -u origin main"
      ]
    },
    {
      "cell_type": "markdown",
      "metadata": {
        "id": "632YTO25BKIu"
      },
      "source": [
        "\n",
        "# Comandos utilizados para clonar un repositorio deGithub al PC\n",
        "\n",
        "\n",
        "**Comandos Básicos para clonar respositorio**"
      ]
    },
    {
      "cell_type": "markdown",
      "metadata": {
        "id": "7O59TELUBgu1"
      },
      "source": [
        "\n",
        "**Clonar una Rama en este caso dev**\n",
        "\n",
        "git clone -b dev https://github.com/Polar7/coches_curso_front.git\n",
        "\n",
        "DAMOS ENTER\n",
        "\n",
        "PARA CORREGIR LA CARPETA MODULE DE ANGULAR DESPUES DE CLONAR\n",
        "\n",
        "Damos comando  para crear la carpeta node_module\n",
        "\n",
        "ng i\n",
        "\n"
      ]
    },
    {
      "cell_type": "markdown",
      "metadata": {
        "id": "cJTzNvqFAHkv"
      },
      "source": []
    }
  ],
  "metadata": {
    "colab": {
      "provenance": []
    },
    "kernelspec": {
      "display_name": "Python 3",
      "name": "python3"
    },
    "language_info": {
      "name": "python"
    }
  },
  "nbformat": 4,
  "nbformat_minor": 0
}
